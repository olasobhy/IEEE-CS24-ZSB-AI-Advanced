{
 "cells": [
  {
   "cell_type": "markdown",
   "metadata": {
    "id": "rv2zlVsKT5Nu"
   },
   "source": [
    "Linear Regression\n",
    "In this section, you'll use linear regression to predict life expectancy from body mass index (BMI)(opens in a new tab). Before you do that, let's go over the tools required to build this model.\n",
    "\n",
    "For your linear regression model, you'll be using scikit-learn's LinearRegression(opens in a new tab) class. This class provides the function fit()(opens in a new tab) to fit the model to your data.\n",
    "\n",
    ">>> from sklearn.linear_model import LinearRegression\n",
    ">>>\n",
    ">>> model = LinearRegression()\n",
    ">>>\n",
    ">>> model.fit(x_values, y_values)\n",
    ">>>\n",
    "In the example above, the model variable is a linear regression model that has been fitted to the data x_values and y_values. Fitting the model means finding the best line that fits the training data. Let's make two predictions using the model's predict()(opens in a new tab) function.\n",
    "\n",
    ">>> print(model.predict([ [127], [248] ]))\n",
    ">>>\n",
    ">>> [[ 438.94308857, 127.14839521]]\n",
    ">>>\n",
    "The model returned an array of predictions, one prediction for each input array. The first input, [127], got a prediction of 438.94308857. The second input, [248], got a prediction of 127.14839521. The reason for predicting on an array like [127] and not just 127, is because you can have a model that makes a prediction using multiple features. We'll go over using multiple variables in linear regression later in this lesson. For now, let's stick to a single value.\n",
    "\n",
    "Linear Regression Quiz\n",
    "In this quiz, you'll be working with data on the average life expectancy at birth and the average BMI for males across the world. The data comes from Gapminder(opens in a new tab).\n",
    "\n",
    "The data file can be found under the \"bmi_and_life_expectancy.csv\" tab in the quiz below. It includes three columns, containing the following data:\n",
    "\n",
    "Country – The country the person was born in.\n",
    "Life expectancy – The average life expectancy at birth for a person in that country.\n",
    "BMI – The mean BMI of males in that country.\n",
    "You'll need to complete each of the following steps:\n",
    "1. Load the data\n",
    "\n",
    "The data is in the file called \"bmi_and_life_expectancy.csv\".\n",
    "Use pandas read_csv(opens in a new tab) to load the data into a dataframe (don't forget to import pandas!)\n",
    "Assign the dataframe to the variable bmi_life_data.\n",
    "2. Build a linear regression model\n",
    "\n",
    "Create a regression model using scikit-learn's LinearRegression(opens in a new tab) and assign it to bmi_life_model.\n",
    "Fit the model to the data.\n",
    "3. Predict using the model\n",
    "\n",
    "Predict using a BMI of 21.07931 and assign it to the variable laos_life_exp."
   ]
  },
  {
   "cell_type": "code",
   "execution_count": 17,
   "metadata": {
    "id": "GtHLYHL8S5U7"
   },
   "outputs": [],
   "source": [
    "# TODO: Add import statements\n",
    "import pandas as pd\n",
    "from sklearn.linear_model import LinearRegression"
   ]
  },
  {
   "cell_type": "code",
   "execution_count": 34,
   "metadata": {},
   "outputs": [],
   "source": [
    "#bmi_life_data.head()"
   ]
  },
  {
   "cell_type": "code",
   "execution_count": 33,
   "metadata": {
    "id": "nEUIael-S5U-"
   },
   "outputs": [],
   "source": [
    "# Assign the dataframe to this variable.\n",
    "# TODO: Load the data\n",
    "bmi_life_data = pd.read_csv(\"bmi_and_life_expectancy.csv\")\n",
    "X = bmi_life_data[['BMI']]\n",
    "y = bmi_life_data['Life expectancy'] "
   ]
  },
  {
   "cell_type": "code",
   "execution_count": 20,
   "metadata": {
    "id": "bxkgCbv7S5U_"
   },
   "outputs": [
    {
     "data": {
      "text/plain": [
       "LinearRegression()"
      ]
     },
     "execution_count": 20,
     "metadata": {},
     "output_type": "execute_result"
    }
   ],
   "source": [
    "# Make and fit the linear regression model\n",
    "#TODO: Fit the model and Assign it to bmi_life_model\n",
    "bmi_life_model = LinearRegression()\n",
    "bmi_life_model.fit(X, y)"
   ]
  },
  {
   "cell_type": "code",
   "execution_count": 32,
   "metadata": {
    "id": "O2TeDvPgS5VA"
   },
   "outputs": [
    {
     "name": "stderr",
     "output_type": "stream",
     "text": [
      "C:\\ProgramData\\Anaconda3\\lib\\site-packages\\sklearn\\base.py:450: UserWarning: X does not have valid feature names, but LinearRegression was fitted with feature names\n",
      "  warnings.warn(\n"
     ]
    },
    {
     "data": {
      "text/plain": [
       "array([60.31564716])"
      ]
     },
     "execution_count": 32,
     "metadata": {},
     "output_type": "execute_result"
    }
   ],
   "source": [
    "# Make a prediction using the model\n",
    "# TODO: Predict life expectancy for a BMI value of 21.07931\n",
    "laos_life_exp = bmi_life_model.predict([[21.07931]])\n",
    "laos_life_exp"
   ]
  },
  {
   "cell_type": "code",
   "execution_count": null,
   "metadata": {},
   "outputs": [],
   "source": []
  }
 ],
 "metadata": {
  "colab": {
   "provenance": []
  },
  "kernelspec": {
   "display_name": "Python 3 (ipykernel)",
   "language": "python",
   "name": "python3"
  },
  "language_info": {
   "codemirror_mode": {
    "name": "ipython",
    "version": 3
   },
   "file_extension": ".py",
   "mimetype": "text/x-python",
   "name": "python",
   "nbconvert_exporter": "python",
   "pygments_lexer": "ipython3",
   "version": "3.9.12"
  }
 },
 "nbformat": 4,
 "nbformat_minor": 1
}
