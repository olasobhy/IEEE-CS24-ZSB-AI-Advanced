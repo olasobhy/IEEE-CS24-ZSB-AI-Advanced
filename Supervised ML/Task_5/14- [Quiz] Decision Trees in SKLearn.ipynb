{
 "cells": [
  {
   "cell_type": "markdown",
   "metadata": {
    "id": "PvYTpbnkiaac"
   },
   "source": [
    "You'll need to complete each of the following steps:"
   ]
  },
  {
   "cell_type": "markdown",
   "metadata": {
    "id": "nARt9CDMicXc"
   },
   "source": [
    "1. Build a decision tree model\n",
    "\n",
    "Create a decision tree classification model using scikit-learn's DecisionTreeClassifier and assign it to the variablemodel."
   ]
  },
  {
   "cell_type": "markdown",
   "metadata": {
    "id": "kghmRwFyicPE"
   },
   "source": [
    "2. Fit the model to the data\n",
    "\n",
    "You won't need to specify any of the hyperparameters since the default ones will yield a model that perfectly classifies the training data. However, we encourage you to play with hyperparameters such as max_depth and min_samples_leaf to try to find the simplest possible model."
   ]
  },
  {
   "cell_type": "markdown",
   "metadata": {
    "id": "6QEpzL0dibwz"
   },
   "source": [
    "3. Predict using the model\n",
    "\n",
    "Predict the labels for the training set, and assign this list to the variable y_pred."
   ]
  },
  {
   "cell_type": "markdown",
   "metadata": {
    "id": "q-6T6urQil2T"
   },
   "source": [
    "4. Calculate the accuracy of the model\n",
    "\n",
    "For this, use the function sklearn function accuracy_score. A model's accuracy is the fraction of all data points that it correctly classified."
   ]
  },
  {
   "cell_type": "markdown",
   "metadata": {
    "id": "wo2FLU5ZilmD"
   },
   "source": [
    "Note: This quiz requires you to find an accuracy of 100% on the training set. This is like memorizing the training data! A model designed to have 100% accuracy on training data is unlikely to generalize well to new data. If you pick very large values for your parameters, the model will fit the training set very well but may not generalize well. Try to find the smallest possible parameters that do the job—then, the model will be more likely to generalize well."
   ]
  },
  {
   "cell_type": "code",
   "execution_count": 2,
   "metadata": {
    "id": "sIZm5nufiEoY"
   },
   "outputs": [],
   "source": [
    "# Import statements\n",
    "from sklearn.tree import DecisionTreeClassifier\n",
    "from sklearn.metrics import accuracy_score\n",
    "import pandas as pd\n",
    "import numpy as np"
   ]
  },
  {
   "cell_type": "code",
   "execution_count": 16,
   "metadata": {
    "id": "M_9xGRQbiEoZ"
   },
   "outputs": [],
   "source": [
    "# Read the data.\n",
    "data = np.asarray(pd.read_csv('data (2).csv', header=None))\n",
    "# Assign the features to the variable X, and the labels to the variable y.\n",
    "X = data[:,0:2]\n",
    "y = data[:,2]"
   ]
  },
  {
   "cell_type": "code",
   "execution_count": 17,
   "metadata": {},
   "outputs": [
    {
     "data": {
      "text/plain": [
       "(96, 2)"
      ]
     },
     "execution_count": 17,
     "metadata": {},
     "output_type": "execute_result"
    }
   ],
   "source": [
    "X.shape"
   ]
  },
  {
   "cell_type": "code",
   "execution_count": 18,
   "metadata": {
    "id": "zFyyYpx-iEoZ"
   },
   "outputs": [],
   "source": [
    "# TODO: Create the decision tree model and assign it to the variable model.\n",
    "model = DecisionTreeClassifier()"
   ]
  },
  {
   "cell_type": "code",
   "execution_count": 19,
   "metadata": {
    "id": "_SQ7cLbgiEoa"
   },
   "outputs": [
    {
     "data": {
      "text/plain": [
       "DecisionTreeClassifier()"
      ]
     },
     "execution_count": 19,
     "metadata": {},
     "output_type": "execute_result"
    }
   ],
   "source": [
    "# TODO: Fit the model.\n",
    "model.fit(X,y)"
   ]
  },
  {
   "cell_type": "code",
   "execution_count": 21,
   "metadata": {},
   "outputs": [
    {
     "data": {
      "text/plain": [
       "1.0"
      ]
     },
     "execution_count": 21,
     "metadata": {},
     "output_type": "execute_result"
    }
   ],
   "source": [
    "model.score(X,y)"
   ]
  },
  {
   "cell_type": "code",
   "execution_count": 22,
   "metadata": {
    "id": "zFsXtqHsiEoa"
   },
   "outputs": [],
   "source": [
    "# TODO: Make predictions. Store them in the variable y_pred.\n",
    "y_pred = model.predict(X)"
   ]
  },
  {
   "cell_type": "code",
   "execution_count": 24,
   "metadata": {
    "id": "IFAKZuyAiEoa"
   },
   "outputs": [],
   "source": [
    "# TODO: Calculate the accuracy and assign it to the variable acc.\n",
    "acc = accuracy_score(y , y_pred)"
   ]
  },
  {
   "cell_type": "code",
   "execution_count": 25,
   "metadata": {
    "id": "5wN--D8_iEob"
   },
   "outputs": [
    {
     "data": {
      "text/plain": [
       "1.0"
      ]
     },
     "execution_count": 25,
     "metadata": {},
     "output_type": "execute_result"
    }
   ],
   "source": [
    "acc"
   ]
  },
  {
   "cell_type": "code",
   "execution_count": null,
   "metadata": {},
   "outputs": [],
   "source": []
  }
 ],
 "metadata": {
  "colab": {
   "provenance": []
  },
  "kernelspec": {
   "display_name": "Python 3 (ipykernel)",
   "language": "python",
   "name": "python3"
  },
  "language_info": {
   "codemirror_mode": {
    "name": "ipython",
    "version": 3
   },
   "file_extension": ".py",
   "mimetype": "text/x-python",
   "name": "python",
   "nbconvert_exporter": "python",
   "pygments_lexer": "ipython3",
   "version": "3.9.12"
  }
 },
 "nbformat": 4,
 "nbformat_minor": 1
}
