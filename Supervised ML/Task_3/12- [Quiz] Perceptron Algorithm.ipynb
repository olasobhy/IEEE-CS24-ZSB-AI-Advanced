{
 "cells": [
  {
   "cell_type": "code",
   "execution_count": 3,
   "metadata": {},
   "outputs": [],
   "source": [
    "#!pip install --upgrade pandas"
   ]
  },
  {
   "cell_type": "code",
   "execution_count": 32,
   "metadata": {},
   "outputs": [],
   "source": [
    "import pandas as pd\n",
    "import numpy as np\n",
    "# Setting the random seed, feel free to change it and see different solutions.\n",
    "np.random.seed(42)"
   ]
  },
  {
   "cell_type": "code",
   "execution_count": 50,
   "metadata": {},
   "outputs": [
    {
     "data": {
      "text/html": [
       "<div>\n",
       "<style scoped>\n",
       "    .dataframe tbody tr th:only-of-type {\n",
       "        vertical-align: middle;\n",
       "    }\n",
       "\n",
       "    .dataframe tbody tr th {\n",
       "        vertical-align: top;\n",
       "    }\n",
       "\n",
       "    .dataframe thead th {\n",
       "        text-align: right;\n",
       "    }\n",
       "</style>\n",
       "<table border=\"1\" class=\"dataframe\">\n",
       "  <thead>\n",
       "    <tr style=\"text-align: right;\">\n",
       "      <th></th>\n",
       "      <th>0</th>\n",
       "      <th>1</th>\n",
       "    </tr>\n",
       "  </thead>\n",
       "  <tbody>\n",
       "    <tr>\n",
       "      <th>0</th>\n",
       "      <td>-0.72407</td>\n",
       "      <td>2.23863</td>\n",
       "    </tr>\n",
       "    <tr>\n",
       "      <th>1</th>\n",
       "      <td>-2.40724</td>\n",
       "      <td>-0.00156</td>\n",
       "    </tr>\n",
       "    <tr>\n",
       "      <th>2</th>\n",
       "      <td>2.64837</td>\n",
       "      <td>3.01665</td>\n",
       "    </tr>\n",
       "    <tr>\n",
       "      <th>3</th>\n",
       "      <td>0.36092</td>\n",
       "      <td>2.31019</td>\n",
       "    </tr>\n",
       "    <tr>\n",
       "      <th>4</th>\n",
       "      <td>0.67312</td>\n",
       "      <td>2.05950</td>\n",
       "    </tr>\n",
       "  </tbody>\n",
       "</table>\n",
       "</div>"
      ],
      "text/plain": [
       "         0        1\n",
       "0 -0.72407  2.23863\n",
       "1 -2.40724 -0.00156\n",
       "2  2.64837  3.01665\n",
       "3  0.36092  2.31019\n",
       "4  0.67312  2.05950"
      ]
     },
     "execution_count": 50,
     "metadata": {},
     "output_type": "execute_result"
    }
   ],
   "source": [
    "# Read our data from csv file\n",
    "data = pd.read_csv('data.csv', header=None)\n",
    "data.head()"
   ]
  },
  {
   "cell_type": "code",
   "execution_count": 56,
   "metadata": {},
   "outputs": [],
   "source": [
    "# Create dataset from Pandas dataframe\n",
    "X = data.loc[:,0:1]\n",
    "y = data.loc[:,1:2]"
   ]
  },
  {
   "cell_type": "code",
   "execution_count": 57,
   "metadata": {},
   "outputs": [],
   "source": [
    "# Convert dataset to Numpy\n",
    "X = X.to_numpy()\n",
    "y = y.to_numpy()"
   ]
  },
  {
   "cell_type": "code",
   "execution_count": 60,
   "metadata": {},
   "outputs": [],
   "source": [
    "# Helper functions to make a prediction\n",
    "def stepFunction(t):\n",
    "    if t >= 0:\n",
    "        return 1\n",
    "    return 0\n",
    "\n",
    "def prediction(X, W, b):\n",
    "    return stepFunction((np.matmul(X,W)+b)[0])"
   ]
  },
  {
   "cell_type": "code",
   "execution_count": 68,
   "metadata": {},
   "outputs": [],
   "source": [
    "# TODO: Fill in the code below to implement the perceptron trick.\n",
    "# The function should receive as inputs the data X, the labels y,\n",
    "# the weights W (as an array), and the bias b,\n",
    "# update the weights and bias W, b, according to the perceptron algorithm,\n",
    "# and return W and b.\n",
    "def perceptronStep(X, y, W, b, learn_rate = 0.01):\n",
    "    for i in range (len(X)):\n",
    "            W[0] += X[i][0] * learn_rate\n",
    "            W[1] += X[i][1] * learn_rate\n",
    "            b += learn_rate\n",
    "\n",
    "    return W, b\n",
    "    return W, b"
   ]
  },
  {
   "cell_type": "code",
   "execution_count": 69,
   "metadata": {},
   "outputs": [],
   "source": [
    "# This function runs the perceptron algorithm repeatedly on the dataset,\n",
    "def trainPerceptronAlgorithm(X, y, learn_rate=0.01, num_epochs=25):\n",
    "    x_min, x_max = min(X.T[0]), max(X.T[0])\n",
    "    y_min, y_max = min(X.T[1]), max(X.T[1])\n",
    "    \n",
    "    W = np.array(np.random.rand(2,1))\n",
    "    b = np.random.rand(1)[0] + x_max\n",
    "\n",
    "    for i in range(num_epochs):\n",
    "        # In each epoch, we apply the perceptron step to update W & b\n",
    "        W, b = perceptronStep(X, y, W, b, learn_rate)\n",
    "        \n",
    "        print(f\"Training epoch: #{i+1}\")\n",
    "        print(f\"Weight: {W}\")\n",
    "        print(f\"bias: {b}\")\n",
    "\n",
    "    return W, b"
   ]
  },
  {
   "cell_type": "code",
   "execution_count": 70,
   "metadata": {},
   "outputs": [
    {
     "name": "stdout",
     "output_type": "stream",
     "text": [
      "Training epoch: #1\n",
      "Weight: [[0.58951632]\n",
      " [0.34871272]]\n",
      "bias: 2.9043645203361916\n",
      "Training epoch: #2\n",
      "Weight: [[0.58037416]\n",
      " [0.5414068 ]]\n",
      "bias: 3.0043645203361806\n",
      "Training epoch: #3\n",
      "Weight: [[0.571232  ]\n",
      " [0.73410088]]\n",
      "bias: 3.1043645203361696\n",
      "Training epoch: #4\n",
      "Weight: [[0.56208984]\n",
      " [0.92679496]]\n",
      "bias: 3.2043645203361586\n",
      "Training epoch: #5\n",
      "Weight: [[0.55294768]\n",
      " [1.11948904]]\n",
      "bias: 3.3043645203361476\n",
      "Training epoch: #6\n",
      "Weight: [[0.54380552]\n",
      " [1.31218312]]\n",
      "bias: 3.4043645203361366\n",
      "Training epoch: #7\n",
      "Weight: [[0.53466336]\n",
      " [1.5048772 ]]\n",
      "bias: 3.5043645203361256\n",
      "Training epoch: #8\n",
      "Weight: [[0.5255212 ]\n",
      " [1.69757128]]\n",
      "bias: 3.6043645203361145\n",
      "Training epoch: #9\n",
      "Weight: [[0.51637904]\n",
      " [1.89026536]]\n",
      "bias: 3.7043645203361035\n",
      "Training epoch: #10\n",
      "Weight: [[0.50723688]\n",
      " [2.08295944]]\n",
      "bias: 3.8043645203360925\n"
     ]
    },
    {
     "data": {
      "text/plain": [
       "(array([[0.50723688],\n",
       "        [2.08295944]]),\n",
       " 3.8043645203360925)"
      ]
     },
     "execution_count": 70,
     "metadata": {},
     "output_type": "execute_result"
    }
   ],
   "source": [
    "# Feel free to play with the learning rate and the num_epochs,\n",
    "# and see your results plotted below.\n",
    "model_train = trainPerceptronAlgorithm(X, y, \n",
    "                                 learn_rate=0.001, \n",
    "                                 num_epochs=10)\n",
    "model_train"
   ]
  },
  {
   "cell_type": "code",
   "execution_count": 71,
   "metadata": {},
   "outputs": [
    {
     "name": "stdout",
     "output_type": "stream",
     "text": [
      "weight: [[0.50723688]\n",
      " [2.08295944]]\n",
      "bias: 3.8043645203360925\n"
     ]
    }
   ],
   "source": [
    "# Make a prediction from the model training\n",
    "final_model = model_train\n",
    "weight, bias = final_model\n",
    "\n",
    "print(f\"weight: {weight}\")\n",
    "print(f\"bias: {bias}\")"
   ]
  },
  {
   "cell_type": "code",
   "execution_count": 72,
   "metadata": {},
   "outputs": [
    {
     "data": {
      "text/plain": [
       "1"
      ]
     },
     "execution_count": 72,
     "metadata": {},
     "output_type": "execute_result"
    }
   ],
   "source": [
    "prediction(X=[-1, 0.5], W=weight, b=bias)"
   ]
  },
  {
   "cell_type": "code",
   "execution_count": null,
   "metadata": {},
   "outputs": [],
   "source": []
  }
 ],
 "metadata": {
  "kernelspec": {
   "display_name": "Python 3 (ipykernel)",
   "language": "python",
   "name": "python3"
  },
  "language_info": {
   "codemirror_mode": {
    "name": "ipython",
    "version": 3
   },
   "file_extension": ".py",
   "mimetype": "text/x-python",
   "name": "python",
   "nbconvert_exporter": "python",
   "pygments_lexer": "ipython3",
   "version": "3.9.12"
  }
 },
 "nbformat": 4,
 "nbformat_minor": 2
}
