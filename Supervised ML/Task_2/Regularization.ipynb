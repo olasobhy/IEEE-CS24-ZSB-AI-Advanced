{
 "cells": [
  {
   "cell_type": "markdown",
   "metadata": {
    "id": "mrEDgWm4eag-"
   },
   "source": [
    "Regularization Exercise\n",
    "Perhaps it's not too surprising at this point, but there are classes in sklearn that will help you perform regularization with your linear regression. You'll get practice with implementing that in this exercise. In this assignment's data.csv, you'll find data for a bunch of points including six predictor variables and one outcome variable. Use sklearn's Lasso(opens in a new tab) class to fit a linear regression model to the data, while also using L1 regularization to control for model complexity.\n",
    "\n",
    "Perform the following steps:\n",
    "1. Load in the data\n",
    "\n",
    "The data is in the file called 'data.csv'. Note that there's no header row on this file.\n",
    "Split the data so that the six predictor features (first six columns) are stored in X, and the outcome feature (last column) is stored in y.\n",
    "2. Fit data using linear regression with Lasso regularization\n",
    "\n",
    "Create an instance of sklearn's Lasso(opens in a new tab) class and assign it to the variable lasso_reg. You don't need to set any parameter values: use the default values for the quiz.\n",
    "Use the Lasso object's .fit() method to fit the regression model onto the data.\n",
    "3. Inspect the coefficients of the regression model\n",
    "\n",
    "Obtain the coefficients of the fit regression model using the .coef_ attribute of the Lasso object. Store this in the reg_coef variable: the coefficients will be printed out, and you will use your observations to answer the question at the bottom of the page."
   ]
  },
  {
   "cell_type": "code",
   "execution_count": 3,
   "metadata": {
    "id": "quuq4yqsc20g"
   },
   "outputs": [],
   "source": [
    "# TODO: Add import statements\n",
    "import numpy as np\n",
    "import pandas as pd\n",
    "from sklearn.linear_model import Lasso"
   ]
  },
  {
   "cell_type": "code",
   "execution_count": 23,
   "metadata": {
    "id": "g6xOW7v5c20p"
   },
   "outputs": [],
   "source": [
    "# Assign the data to predictor and outcome variables\n",
    "# TODO: Load the data\n",
    "train_data = pd.read_csv('data (1).csv', header = None)\n",
    "X = train_data.drop(6 , axis=1)\n",
    "y = train_data[6]"
   ]
  },
  {
   "cell_type": "code",
   "execution_count": 46,
   "metadata": {
    "id": "h-KjvT-nc20q"
   },
   "outputs": [
    {
     "data": {
      "text/plain": [
       "array([ 0.        ,  2.35793224,  2.00441646, -0.05511954, -3.92808318,\n",
       "        0.        ])"
      ]
     },
     "execution_count": 46,
     "metadata": {},
     "output_type": "execute_result"
    }
   ],
   "source": [
    "# TODO: Create the linear regression model with lasso regularization.\n",
    "lasso_reg = Lasso()\n",
    "\n",
    "# TODO: Fit the model.\n",
    "lasso_reg.fit(X, y)\n",
    "\n",
    "# TODO: Retrieve and print out the coefficients from the regression model.\n",
    "reg_coef = lasso_reg.coef_\n",
    "reg_coef"
   ]
  },
  {
   "cell_type": "markdown",
   "metadata": {
    "id": "6JlZEbCUf1J9"
   },
   "source": [
    "Quiz Question\n",
    "\n",
    "For which of the predictor features has the lasso regularization step zeroed the corresponding coefficient?\n",
    "\n",
    "\n",
    "\n",
    "\n",
    "\n",
    "\n",
    "\n",
    "\n",
    "\n",
    "\n",
    "\n",
    "\n",
    "\n"
   ]
  },
  {
   "cell_type": "markdown",
   "metadata": {
    "id": "2ZGIr41nf47F"
   },
   "source": [
    "Column: ** 0 , 5 **"
   ]
  },
  {
   "cell_type": "code",
   "execution_count": 48,
   "metadata": {},
   "outputs": [],
   "source": [
    "#lasso_reg.score(X,y)"
   ]
  },
  {
   "cell_type": "code",
   "execution_count": null,
   "metadata": {},
   "outputs": [],
   "source": []
  }
 ],
 "metadata": {
  "colab": {
   "provenance": []
  },
  "kernelspec": {
   "display_name": "Python 3 (ipykernel)",
   "language": "python",
   "name": "python3"
  },
  "language_info": {
   "codemirror_mode": {
    "name": "ipython",
    "version": 3
   },
   "file_extension": ".py",
   "mimetype": "text/x-python",
   "name": "python",
   "nbconvert_exporter": "python",
   "pygments_lexer": "ipython3",
   "version": "3.9.12"
  }
 },
 "nbformat": 4,
 "nbformat_minor": 1
}
